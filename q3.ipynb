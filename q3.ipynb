{
 "cells": [
  {
   "cell_type": "markdown",
   "metadata": {},
   "source": [
    "# HW3 - Q3 [35 pts]"
   ]
  },
  {
   "cell_type": "markdown",
   "metadata": {},
   "source": [
    "## Important Notices\n",
    "\n",
    "<div class=\"alert alert-block alert-danger\">\n",
    "    WARNING: <strong>REMOVE</strong> any print statements added to cells with \"#export\" that are used for debugging purposes befrore submitting because they will crash the autograder in Gradescope. Any additional cells can be used for testing purposes at the bottom. \n",
    "</div>\n",
    "\n",
    "<div class=\"alert alert-block alert-danger\">\n",
    "    WARNING: Do <strong>NOT</strong> remove any comment that says \"#export\" because that will crash the autograder in Gradescope. We use this comment to export your code in these cells for grading.\n",
    "</div>\n",
    "\n",
    "<div class=\"alert alert-block alert-danger\">\n",
    "    WARNING: Do <strong>NOT</strong> import any additional libraries into this workbook.\n",
    "</div>\n",
    "\n",
    "All instructions, code comments, etc. in this notebook **are part of the assignment instructions**. That is, if there is instructions about completing a task in this notebook, that task is not optional.  \n",
    "\n",
    "<div class=\"alert alert-block alert-info\">\n",
    "    You <strong>must</strong> implement the following functions in this notebook to receive credit.\n",
    "</div>\n",
    "\n",
    "`user()`\n",
    "\n",
    "`long_trips()`\n",
    "\n",
    "`manhattan_trips()`\n",
    "\n",
    "`weighted_profit()`\n",
    "\n",
    "`final_output()`\n",
    "\n",
    "Each method will be auto-graded using different sets of parameters or data, to ensure that values are not hard-coded.  You may assume we will only use your code to work with data from the NYC-TLC dataset during auto-grading.\n",
    "\n",
    "<div class=\"alert alert-block alert-danger\">\n",
    "    WARNING: Do <strong>NOT</strong> remove or modify the following utility functions:\n",
    "</div>\n",
    "\n",
    "`load_data()`\n",
    "\n",
    "`main()`"
   ]
  },
  {
   "cell_type": "markdown",
   "metadata": {},
   "source": [
    "<div class=\"alert alert-block alert-info\">\n",
    "    Do <strong>not</strong> change the below cell. Run it to initialize your PySpark instance. If you don't get any output, make sure your Notebook's Kernel is set to \"PySpark\" in the top right corner.\n",
    "</div>"
   ]
  },
  {
   "cell_type": "code",
   "execution_count": 1,
   "metadata": {
    "execution": {
     "iopub.execute_input": "2022-03-12T01:05:59.237372Z",
     "iopub.status.busy": "2022-03-12T01:05:59.236788Z",
     "iopub.status.idle": "2022-03-12T01:06:38.123154Z",
     "shell.execute_reply": "2022-03-12T01:06:38.122070Z",
     "shell.execute_reply.started": "2022-03-12T01:05:59.237334Z"
    },
    "tags": []
   },
   "outputs": [
    {
     "data": {
      "application/vnd.jupyter.widget-view+json": {
       "model_id": "e8d31cff25ef48c39fd12b40d879fd85",
       "version_major": 2,
       "version_minor": 0
      },
      "text/plain": [
       "VBox()"
      ]
     },
     "metadata": {},
     "output_type": "display_data"
    },
    {
     "name": "stdout",
     "output_type": "stream",
     "text": [
      "Starting Spark application\n"
     ]
    },
    {
     "data": {
      "text/html": [
       "<table>\n",
       "<tr><th>ID</th><th>YARN Application ID</th><th>Kind</th><th>State</th><th>Spark UI</th><th>Driver log</th><th>Current session?</th></tr><tr><td>3</td><td>application_1647039937771_0004</td><td>pyspark</td><td>idle</td><td><a target=\"_blank\" href=\"http://ip-172-31-91-74.ec2.internal:20888/proxy/application_1647039937771_0004/\" class=\"emr-proxy-link\" emr-resource=\"j-49VCEC1JJ1RZ\n",
       "\" application-id=\"application_1647039937771_0004\">Link</a></td><td><a target=\"_blank\" href=\"http://ip-172-31-85-170.ec2.internal:8042/node/containerlogs/container_1647039937771_0004_01_000002/livy\" >Link</a></td><td>✔</td></tr></table>"
      ],
      "text/plain": [
       "<IPython.core.display.HTML object>"
      ]
     },
     "metadata": {},
     "output_type": "display_data"
    },
    {
     "data": {
      "application/vnd.jupyter.widget-view+json": {
       "model_id": "",
       "version_major": 2,
       "version_minor": 0
      },
      "text/plain": [
       "FloatProgress(value=0.0, bar_style='info', description='Progress:', layout=Layout(height='25px', width='50%'),…"
      ]
     },
     "metadata": {},
     "output_type": "display_data"
    },
    {
     "name": "stdout",
     "output_type": "stream",
     "text": [
      "SparkSession available as 'spark'.\n"
     ]
    },
    {
     "data": {
      "application/vnd.jupyter.widget-view+json": {
       "model_id": "",
       "version_major": 2,
       "version_minor": 0
      },
      "text/plain": [
       "FloatProgress(value=0.0, bar_style='info', description='Progress:', layout=Layout(height='25px', width='50%'),…"
      ]
     },
     "metadata": {},
     "output_type": "display_data"
    },
    {
     "name": "stdout",
     "output_type": "stream",
     "text": [
      "<SparkContext master=yarn appName=livy-session-3>"
     ]
    }
   ],
   "source": [
    "sc"
   ]
  },
  {
   "cell_type": "markdown",
   "metadata": {},
   "source": [
    "<div class=\"alert alert-block alert-danger\">\n",
    "    WARNING: Do <strong>NOT</strong> remodify the below cell. It contains the function for loading data and all imports, and the function for running your code.\n",
    "</div>"
   ]
  },
  {
   "cell_type": "code",
   "execution_count": 2,
   "metadata": {
    "execution": {
     "iopub.execute_input": "2022-03-12T01:06:38.124880Z",
     "iopub.status.busy": "2022-03-12T01:06:38.124637Z",
     "iopub.status.idle": "2022-03-12T01:06:38.448663Z",
     "shell.execute_reply": "2022-03-12T01:06:38.447356Z",
     "shell.execute_reply.started": "2022-03-12T01:06:38.124846Z"
    },
    "tags": []
   },
   "outputs": [
    {
     "data": {
      "application/vnd.jupyter.widget-view+json": {
       "model_id": "1cc13f53a2c34939a9283e7a3ebcf0a0",
       "version_major": 2,
       "version_minor": 0
      },
      "text/plain": [
       "VBox()"
      ]
     },
     "metadata": {},
     "output_type": "display_data"
    },
    {
     "data": {
      "application/vnd.jupyter.widget-view+json": {
       "model_id": "",
       "version_major": 2,
       "version_minor": 0
      },
      "text/plain": [
       "FloatProgress(value=0.0, bar_style='info', description='Progress:', layout=Layout(height='25px', width='50%'),…"
      ]
     },
     "metadata": {},
     "output_type": "display_data"
    }
   ],
   "source": [
    "# export\n",
    "from pyspark.sql.functions import col\n",
    "from pyspark.sql import *"
   ]
  },
  {
   "cell_type": "code",
   "execution_count": 3,
   "metadata": {
    "execution": {
     "iopub.execute_input": "2022-03-12T01:06:38.452512Z",
     "iopub.status.busy": "2022-03-12T01:06:38.452062Z",
     "iopub.status.idle": "2022-03-12T01:06:38.578838Z",
     "shell.execute_reply": "2022-03-12T01:06:38.577508Z",
     "shell.execute_reply.started": "2022-03-12T01:06:38.452422Z"
    },
    "tags": []
   },
   "outputs": [
    {
     "data": {
      "application/vnd.jupyter.widget-view+json": {
       "model_id": "b5e50157b9084f9e8a34d88070aa3085",
       "version_major": 2,
       "version_minor": 0
      },
      "text/plain": [
       "VBox()"
      ]
     },
     "metadata": {},
     "output_type": "display_data"
    },
    {
     "data": {
      "application/vnd.jupyter.widget-view+json": {
       "model_id": "",
       "version_major": 2,
       "version_minor": 0
      },
      "text/plain": [
       "FloatProgress(value=0.0, bar_style='info', description='Progress:', layout=Layout(height='25px', width='50%'),…"
      ]
     },
     "metadata": {},
     "output_type": "display_data"
    }
   ],
   "source": [
    "#### DO NOT CHANGE ANYTHING IN THIS CELL ####\n",
    "\n",
    "def load_data(size='small'):\n",
    "    # Loads the data for this question. Do not change this function.\n",
    "    # This function should only be called with the parameter 'small' or 'large'\n",
    "    \n",
    "    if size != 'small' and size != 'large':\n",
    "        print(\"Invalid size parameter provided. Use only 'small' or 'large'.\")\n",
    "        return\n",
    "    \n",
    "    input_bucket = \"s3://cse6242-hw3-q3\"\n",
    "    \n",
    "    # Load Trip Data\n",
    "    trip_path = '/'+size+'/yellow_tripdata*'\n",
    "    trips = spark.read.csv(input_bucket + trip_path, header=True, inferSchema=True)\n",
    "    print(\"Trip Count: \",trips.count()) # Prints # of trips (# of records, as each record is one trip)\n",
    "    \n",
    "    # Load Lookup Data\n",
    "    lookup_path = '/'+size+'/taxi*'\n",
    "    lookup = spark.read.csv(input_bucket + lookup_path, header=True, inferSchema=True)\n",
    "    \n",
    "    return trips, lookup\n",
    "\n",
    "def main(size, bucket):\n",
    "    # Runs your functions implemented above.\n",
    "    \n",
    "    print(user())\n",
    "    trips, lookup = load_data(size=size)\n",
    "    trips = long_trips(trips)\n",
    "    mtrips = manhattan_trips(trips, lookup)\n",
    "    wp = weighted_profit(trips, mtrips)\n",
    "    final = final_output(wp, lookup)\n",
    "    \n",
    "    # Outputs the results for you to visually see\n",
    "    final.show()\n",
    "    \n",
    "    # Writes out as a CSV to your bucket.\n",
    "    final.write.csv(bucket)"
   ]
  },
  {
   "cell_type": "markdown",
   "metadata": {},
   "source": [
    "# Implement the below functions for this assignment:\n",
    "<div class=\"alert alert-block alert-danger\">\n",
    "    WARNING: Do <strong>NOT</strong> change any function inputs or outputs, and ensure that the dataframes your code returns align with the schema definitions commented in each function. Do <strong>NOT</strong> remove the #export comment from each of the code blocks either. This can prevent your code from being converted to a python file.\n",
    "</div>"
   ]
  },
  {
   "cell_type": "markdown",
   "metadata": {},
   "source": [
    "## 3a. [1 pt] Update the `user()` function\n",
    "This function should return your GT username, eg: gburdell3"
   ]
  },
  {
   "cell_type": "code",
   "execution_count": 4,
   "metadata": {
    "execution": {
     "iopub.execute_input": "2022-03-12T01:06:38.581976Z",
     "iopub.status.busy": "2022-03-12T01:06:38.581296Z",
     "iopub.status.idle": "2022-03-12T01:06:38.688987Z",
     "shell.execute_reply": "2022-03-12T01:06:38.687681Z",
     "shell.execute_reply.started": "2022-03-12T01:06:38.581913Z"
    },
    "tags": []
   },
   "outputs": [
    {
     "data": {
      "application/vnd.jupyter.widget-view+json": {
       "model_id": "93d1f29037ef426aab62939e05ce4b4a",
       "version_major": 2,
       "version_minor": 0
      },
      "text/plain": [
       "VBox()"
      ]
     },
     "metadata": {},
     "output_type": "display_data"
    },
    {
     "data": {
      "application/vnd.jupyter.widget-view+json": {
       "model_id": "",
       "version_major": 2,
       "version_minor": 0
      },
      "text/plain": [
       "FloatProgress(value=0.0, bar_style='info', description='Progress:', layout=Layout(height='25px', width='50%'),…"
      ]
     },
     "metadata": {},
     "output_type": "display_data"
    }
   ],
   "source": [
    "#export\n",
    "def user():\n",
    "    # Returns a string consisting of your GT username.\n",
    "    return 'ntalukder6'"
   ]
  },
  {
   "cell_type": "markdown",
   "metadata": {},
   "source": [
    "## 3b. [2 pts] Update the `long_trips()` function\n",
    "This function filters trips to keep only trips greater than or equal to 2 miles."
   ]
  },
  {
   "cell_type": "code",
   "execution_count": 5,
   "metadata": {
    "execution": {
     "iopub.execute_input": "2022-03-12T01:06:38.691486Z",
     "iopub.status.busy": "2022-03-12T01:06:38.691068Z",
     "iopub.status.idle": "2022-03-12T01:06:38.816719Z",
     "shell.execute_reply": "2022-03-12T01:06:38.815342Z",
     "shell.execute_reply.started": "2022-03-12T01:06:38.691429Z"
    },
    "tags": []
   },
   "outputs": [
    {
     "data": {
      "application/vnd.jupyter.widget-view+json": {
       "model_id": "141498b6b6bf4a36a075908a1e753be2",
       "version_major": 2,
       "version_minor": 0
      },
      "text/plain": [
       "VBox()"
      ]
     },
     "metadata": {},
     "output_type": "display_data"
    },
    {
     "data": {
      "application/vnd.jupyter.widget-view+json": {
       "model_id": "",
       "version_major": 2,
       "version_minor": 0
      },
      "text/plain": [
       "FloatProgress(value=0.0, bar_style='info', description='Progress:', layout=Layout(height='25px', width='50%'),…"
      ]
     },
     "metadata": {},
     "output_type": "display_data"
    }
   ],
   "source": [
    "#export\n",
    "def long_trips(trips):\n",
    "    # Returns a Dataframe (trips) with Schema the same as :trips:\n",
    "    return trips.filter(trips.trip_distance >= 2.0)"
   ]
  },
  {
   "cell_type": "markdown",
   "metadata": {},
   "source": [
    "## 3c. [6 pts] Update the `manhattan_trips()` function\n",
    "\n",
    "This function determines the top 20 locations with a `DOLocationID` in manhattan by passenger_count (pcount).\n",
    "\n",
    "Example output formatting:\n",
    "\n",
    "```\n",
    "+--------------+--------+\n",
    "| DOLocationID | pcount |\n",
    "+--------------+--------+\n",
    "|             5|      15|\n",
    "|            16|      12| \n",
    "+--------------+--------+\n",
    "```"
   ]
  },
  {
   "cell_type": "code",
   "execution_count": 6,
   "metadata": {
    "execution": {
     "iopub.execute_input": "2022-03-12T01:06:38.819824Z",
     "iopub.status.busy": "2022-03-12T01:06:38.819035Z",
     "iopub.status.idle": "2022-03-12T01:06:38.970670Z",
     "shell.execute_reply": "2022-03-12T01:06:38.969432Z",
     "shell.execute_reply.started": "2022-03-12T01:06:38.819764Z"
    },
    "tags": []
   },
   "outputs": [
    {
     "data": {
      "application/vnd.jupyter.widget-view+json": {
       "model_id": "af8bc5c2d8754e658de8a9c2a743c2f7",
       "version_major": 2,
       "version_minor": 0
      },
      "text/plain": [
       "VBox()"
      ]
     },
     "metadata": {},
     "output_type": "display_data"
    },
    {
     "data": {
      "application/vnd.jupyter.widget-view+json": {
       "model_id": "",
       "version_major": 2,
       "version_minor": 0
      },
      "text/plain": [
       "FloatProgress(value=0.0, bar_style='info', description='Progress:', layout=Layout(height='25px', width='50%'),…"
      ]
     },
     "metadata": {},
     "output_type": "display_data"
    }
   ],
   "source": [
    "#export\n",
    "def manhattan_trips(trips, lookup):\n",
    "    \n",
    "    trips = trips.withColumn(\"passenger_count\", trips[\"passenger_count\"].cast('int'))\n",
    "    trips = trips.withColumn(\"DOLocationID\", trips[\"DOLocationID\"].cast('int'))\n",
    "    trips = trips.join(lookup, trips.DOLocationID == lookup.LocationID).where(lookup.Borough == \"Manhattan\")\n",
    "    \n",
    "    return trips.select(['passenger_count','DOLocationID']).groupBy('DOLocationID').sum('passenger_count')\\\n",
    "            .sort(col('sum(passenger_count)').desc()).limit(20)\\\n",
    "            .withColumnRenamed(\"sum(passenger_count)\", \"pcount\")\n",
    "    \n",
    "    # Returns a Dataframe (mtrips) with Schema: DOLocationID, pcount\n",
    "#     pass"
   ]
  },
  {
   "cell_type": "markdown",
   "metadata": {},
   "source": [
    "## 3d. [6 pts] Update the `weighted_profit()` function\n",
    "This function should determine the average `total_amount`, the total count of trips, and the total count of trips ending in the top 20 destinations and return the `weighted_profit` as discussed in the homework document.\n",
    "\n",
    "Example output formatting:\n",
    "```\n",
    "+--------------+-------------------+\n",
    "| PULocationID |  weighted_profit  |\n",
    "+--------------+-------------------+\n",
    "|            18| 33.784444421924436| \n",
    "|            12| 21.124577637149223| \n",
    "+--------------+-------------------+\n",
    "```"
   ]
  },
  {
   "cell_type": "code",
   "execution_count": 7,
   "metadata": {
    "execution": {
     "iopub.execute_input": "2022-03-12T01:06:38.973502Z",
     "iopub.status.busy": "2022-03-12T01:06:38.972700Z",
     "iopub.status.idle": "2022-03-12T01:06:39.113156Z",
     "shell.execute_reply": "2022-03-12T01:06:39.111885Z",
     "shell.execute_reply.started": "2022-03-12T01:06:38.973445Z"
    },
    "tags": []
   },
   "outputs": [
    {
     "data": {
      "application/vnd.jupyter.widget-view+json": {
       "model_id": "996654466450498595dd0075c78db255",
       "version_major": 2,
       "version_minor": 0
      },
      "text/plain": [
       "VBox()"
      ]
     },
     "metadata": {},
     "output_type": "display_data"
    },
    {
     "data": {
      "application/vnd.jupyter.widget-view+json": {
       "model_id": "",
       "version_major": 2,
       "version_minor": 0
      },
      "text/plain": [
       "FloatProgress(value=0.0, bar_style='info', description='Progress:', layout=Layout(height='25px', width='50%'),…"
      ]
     },
     "metadata": {},
     "output_type": "display_data"
    }
   ],
   "source": [
    "#export\n",
    "def weighted_profit(trips, mtrips): \n",
    "    \n",
    "    \n",
    "    # Returns a Dataframe (wp) with Schema: PULocationID, weighted_profit\n",
    "    # Note: Use decimal datatype for weighted profit (NOTE: DON'T USE FLOAT)\n",
    "    # Our grader will be only be checking the first 8 characters for each value in the dataframe\n",
    "#     pass\n",
    "\n",
    "#     trips_data_process = trips.select(['PULocationID', 'DOLocationID', 'total_amount'])\n",
    "    \n",
    "    \n",
    "\n",
    "    #avg amount\n",
    "    trips = trips.withColumn(\"total_amount\", trips[\"total_amount\"].cast('double'))\n",
    "    trips = trips.withColumn(\"PULocationID\", trips[\"PULocationID\"].cast('int'))\n",
    "    \n",
    "    \n",
    "#     average_amount = trips_data_process.groupBy('PULocationID').avg('total_amount')\n",
    "    average_amount = trips.groupBy('PULocationID').avg('total_amount')\n",
    "\n",
    "    #trips grouped by pick up location\n",
    "    total_count_each_location = trips.groupBy('PULocationID').count().withColumnRenamed(\"count\", \"total_count\")\n",
    "\n",
    "#     total_count_each_location = trips_data_process.groupBy('PULocationID').count()\n",
    "\n",
    "\n",
    "    top_values = [row[0] for row in mtrips.select('DOLocationID').collect()]\n",
    "    \n",
    "    masked_value = trips.DOLocationID.isin(top_values)\n",
    "#     masked_value = trips_data_process.DOLocationID.isin(top_values)\n",
    "\n",
    "#     trips_data_masked = trips_data_process[masked_value] #filter the whole data by top drop off locations\n",
    "    trips_data_masked = trips[masked_value]\n",
    "    \n",
    "    \n",
    "#     trips_data_masked = trips_data_masked.withColumn(\"PULocationID\", trips_data_masked[\"PULocationID\"].cast('int'))\n",
    "    \n",
    "    \n",
    "    trips_ended_at_popular_location = trips_data_masked.groupBy('PULocationID').count().withColumnRenamed(\"count\", \"popular_count\")\n",
    "#     trips_ended_at_popular_location = trips_ended_at_popular_location.withColumnRenamed(\"count\", \"popular_count\")\n",
    "\n",
    "#     trips_ended_at_popular_location.show()\n",
    "    proportion_dataframe = trips_ended_at_popular_location.join(total_count_each_location, \"PULocationID\", 'inner')\n",
    "        \n",
    "    proportion_dataframe = proportion_dataframe.withColumn(\"proportion\", (col(\"popular_count\") / col(\"total_count\")))\n",
    "#         .withColumn(\"proportion\", (col(\"popular_count\") / col(\"count\")).cast('decimal(30,8)'))\n",
    "        \n",
    "        \n",
    "\n",
    "    profit_dataframe = proportion_dataframe\\\n",
    "        .join(average_amount, \"PULocationID\", 'inner')\n",
    "    \n",
    "    profit_dataframe = profit_dataframe.withColumn(\"weighted_profit\", (col(\"proportion\")*col(\"avg(total_amount)\")).cast('decimal(30,8)'))\n",
    "#             .withColumn(\"weighted_profit\", (col(\"proportion\")*col(\"avg(total_amount)\")))\n",
    "\n",
    "    \n",
    "\n",
    "    return profit_dataframe.select('PULocationID', 'weighted_profit')\n",
    "\n",
    "\n"
   ]
  },
  {
   "cell_type": "markdown",
   "metadata": {},
   "source": [
    "## 3e. [5 pts] Update the `final_output()` function\n",
    "This function will take the results of `weighted_profit`, links it to the `borough` and `zone` and returns the top 20 locations with the highest `weighted_profit`.\n",
    "\n",
    "Example output formatting:\n",
    "```\n",
    "+------------+---------+-------------------+\n",
    "|    Zone    | Borough |  weighted_profit  |\n",
    "+----------------------+-------------------+\n",
    "| JFK Airport|   Queens|  16.95897820117925|\n",
    "|     Jamaica|   Queens| 14.879835188762488|\n",
    "+------------+---------+-------------------+\n",
    "```"
   ]
  },
  {
   "cell_type": "code",
   "execution_count": 8,
   "metadata": {
    "execution": {
     "iopub.execute_input": "2022-03-12T01:06:39.118286Z",
     "iopub.status.busy": "2022-03-12T01:06:39.117397Z",
     "iopub.status.idle": "2022-03-12T01:06:39.280394Z",
     "shell.execute_reply": "2022-03-12T01:06:39.279248Z",
     "shell.execute_reply.started": "2022-03-12T01:06:39.118230Z"
    },
    "tags": []
   },
   "outputs": [
    {
     "data": {
      "application/vnd.jupyter.widget-view+json": {
       "model_id": "f3160338007d421c9790f8b9ed7bd36c",
       "version_major": 2,
       "version_minor": 0
      },
      "text/plain": [
       "VBox()"
      ]
     },
     "metadata": {},
     "output_type": "display_data"
    },
    {
     "data": {
      "application/vnd.jupyter.widget-view+json": {
       "model_id": "",
       "version_major": 2,
       "version_minor": 0
      },
      "text/plain": [
       "FloatProgress(value=0.0, bar_style='info', description='Progress:', layout=Layout(height='25px', width='50%'),…"
      ]
     },
     "metadata": {},
     "output_type": "display_data"
    }
   ],
   "source": [
    "#export\n",
    "def final_output(wp, lookup): \n",
    "    \n",
    "    \n",
    "    \n",
    "    # Returns a Dataframe (final) with Schema: Zone, Borough, weighted_profit\n",
    "    # Note: Use decimal datatype for weighted profit (NOTE: DON'T USE FLOAT)\n",
    "    # Our grader will be only be checking the first 8 characters for each value in the dataframe\n",
    "    \n",
    "    joined_output_df = wp.join(lookup, wp.PULocationID == lookup.LocationID, 'outer')\n",
    "    return joined_output_df.select('Zone', 'Borough', 'weighted_profit').sort(col('weighted_profit').desc()).limit(20)\n",
    "\n",
    "#     pass"
   ]
  },
  {
   "cell_type": "markdown",
   "metadata": {},
   "source": [
    "#### Testing\n",
    "\n",
    "<div class=\"alert alert-block alert-info\">\n",
    "    You may use the below cell for any additional testing you need to do, however any code implemented below will not be run or used when grading.\n",
    "</div>"
   ]
  },
  {
   "cell_type": "code",
   "execution_count": 9,
   "metadata": {
    "execution": {
     "iopub.execute_input": "2022-03-12T01:06:39.283436Z",
     "iopub.status.busy": "2022-03-12T01:06:39.282678Z",
     "iopub.status.idle": "2022-03-12T01:06:39.407875Z",
     "shell.execute_reply": "2022-03-12T01:06:39.406701Z",
     "shell.execute_reply.started": "2022-03-12T01:06:39.283381Z"
    },
    "tags": []
   },
   "outputs": [
    {
     "data": {
      "application/vnd.jupyter.widget-view+json": {
       "model_id": "be0fa218f6ac401395e8c1e702c94fb7",
       "version_major": 2,
       "version_minor": 0
      },
      "text/plain": [
       "VBox()"
      ]
     },
     "metadata": {},
     "output_type": "display_data"
    },
    {
     "data": {
      "application/vnd.jupyter.widget-view+json": {
       "model_id": "",
       "version_major": 2,
       "version_minor": 0
      },
      "text/plain": [
       "FloatProgress(value=0.0, bar_style='info', description='Progress:', layout=Layout(height='25px', width='50%'),…"
      ]
     },
     "metadata": {},
     "output_type": "display_data"
    }
   ],
   "source": [
    "def test_weighted(size):\n",
    "    # Runs your functions implemented above.\n",
    "    \n",
    "    print(user())\n",
    "    trips, lookup = load_data(size=size)\n",
    "    trips = long_trips(trips)\n",
    "    mtrips = manhattan_trips(trips, lookup)\n",
    "    wp = weighted_profit(trips, mtrips)\n",
    "#     final = final_output(wp, lookup)\n",
    "    \n",
    "    # Outputs the results for you to visually see\n",
    "    wp.show()\n",
    "    return wp\n",
    "    \n",
    "    # Writes out as a CSV to your bucket.\n",
    "#     final.write.csv(bucket)"
   ]
  },
  {
   "cell_type": "code",
   "execution_count": 10,
   "metadata": {
    "execution": {
     "iopub.execute_input": "2022-03-12T01:06:39.409859Z",
     "iopub.status.busy": "2022-03-12T01:06:39.409534Z",
     "iopub.status.idle": "2022-03-12T01:09:31.799109Z",
     "shell.execute_reply": "2022-03-12T01:09:31.797754Z",
     "shell.execute_reply.started": "2022-03-12T01:06:39.409824Z"
    },
    "tags": []
   },
   "outputs": [
    {
     "data": {
      "application/vnd.jupyter.widget-view+json": {
       "model_id": "564010f3e6ba498b8e7860307f987198",
       "version_major": 2,
       "version_minor": 0
      },
      "text/plain": [
       "VBox()"
      ]
     },
     "metadata": {},
     "output_type": "display_data"
    },
    {
     "data": {
      "application/vnd.jupyter.widget-view+json": {
       "model_id": "",
       "version_major": 2,
       "version_minor": 0
      },
      "text/plain": [
       "FloatProgress(value=0.0, bar_style='info', description='Progress:', layout=Layout(height='25px', width='50%'),…"
      ]
     },
     "metadata": {},
     "output_type": "display_data"
    },
    {
     "name": "stdout",
     "output_type": "stream",
     "text": [
      "ntalukder6\n",
      "Trip Count:  7667792\n",
      "+------------+---------------+\n",
      "|PULocationID|weighted_profit|\n",
      "+------------+---------------+\n",
      "|         148|     7.24102559|\n",
      "|         243|     8.07104183|\n",
      "|          65|     6.69655349|\n",
      "|         133|     3.04276048|\n",
      "|         126|     5.75015095|\n",
      "|          81|     4.60678585|\n",
      "|          76|     4.05649377|\n",
      "|         192|     4.56424700|\n",
      "|          12|    10.03800941|\n",
      "|         209|     9.49565766|\n",
      "|         122|     7.26495868|\n",
      "|         140|     8.27149623|\n",
      "|         177|     2.55338972|\n",
      "|           1|     6.32938776|\n",
      "|         206|    21.31508876|\n",
      "|           6|    31.55555556|\n",
      "|         205|     7.74124926|\n",
      "|         142|     8.06871880|\n",
      "|           3|     5.66724537|\n",
      "|         178|     4.38795552|\n",
      "+------------+---------------+\n",
      "only showing top 20 rows"
     ]
    }
   ],
   "source": [
    "weighted_df = test_weighted(\"small\")"
   ]
  },
  {
   "cell_type": "code",
   "execution_count": 11,
   "metadata": {
    "execution": {
     "iopub.execute_input": "2022-03-12T01:09:31.801495Z",
     "iopub.status.busy": "2022-03-12T01:09:31.800987Z",
     "iopub.status.idle": "2022-03-12T01:09:31.918319Z",
     "shell.execute_reply": "2022-03-12T01:09:31.917205Z",
     "shell.execute_reply.started": "2022-03-12T01:09:31.801357Z"
    },
    "tags": []
   },
   "outputs": [
    {
     "data": {
      "application/vnd.jupyter.widget-view+json": {
       "model_id": "ad27612cdb544c64a9f0752094541e59",
       "version_major": 2,
       "version_minor": 0
      },
      "text/plain": [
       "VBox()"
      ]
     },
     "metadata": {},
     "output_type": "display_data"
    },
    {
     "data": {
      "application/vnd.jupyter.widget-view+json": {
       "model_id": "",
       "version_major": 2,
       "version_minor": 0
      },
      "text/plain": [
       "FloatProgress(value=0.0, bar_style='info', description='Progress:', layout=Layout(height='25px', width='50%'),…"
      ]
     },
     "metadata": {},
     "output_type": "display_data"
    },
    {
     "name": "stdout",
     "output_type": "stream",
     "text": [
      "root\n",
      " |-- PULocationID: integer (nullable = true)\n",
      " |-- weighted_profit: decimal(30,8) (nullable = true)"
     ]
    }
   ],
   "source": [
    "weighted_df.printSchema()"
   ]
  },
  {
   "cell_type": "code",
   "execution_count": 12,
   "metadata": {
    "execution": {
     "iopub.execute_input": "2022-03-12T01:09:31.919994Z",
     "iopub.status.busy": "2022-03-12T01:09:31.919734Z",
     "iopub.status.idle": "2022-03-12T01:09:32.047891Z",
     "shell.execute_reply": "2022-03-12T01:09:32.046680Z",
     "shell.execute_reply.started": "2022-03-12T01:09:31.919959Z"
    },
    "tags": []
   },
   "outputs": [
    {
     "data": {
      "application/vnd.jupyter.widget-view+json": {
       "model_id": "9b727670212b42a8b3645fb8f3b96a4b",
       "version_major": 2,
       "version_minor": 0
      },
      "text/plain": [
       "VBox()"
      ]
     },
     "metadata": {},
     "output_type": "display_data"
    },
    {
     "data": {
      "application/vnd.jupyter.widget-view+json": {
       "model_id": "",
       "version_major": 2,
       "version_minor": 0
      },
      "text/plain": [
       "FloatProgress(value=0.0, bar_style='info', description='Progress:', layout=Layout(height='25px', width='50%'),…"
      ]
     },
     "metadata": {},
     "output_type": "display_data"
    }
   ],
   "source": [
    "output_bucket = \"s3://cse6242-ntalukder6/decimal-final\"\n"
   ]
  },
  {
   "cell_type": "code",
   "execution_count": 14,
   "metadata": {
    "execution": {
     "iopub.execute_input": "2022-03-12T01:11:06.710150Z",
     "iopub.status.busy": "2022-03-12T01:11:06.709850Z",
     "iopub.status.idle": "2022-03-12T01:45:55.987910Z",
     "shell.execute_reply": "2022-03-12T01:45:55.986165Z",
     "shell.execute_reply.started": "2022-03-12T01:11:06.710114Z"
    },
    "tags": []
   },
   "outputs": [
    {
     "data": {
      "application/vnd.jupyter.widget-view+json": {
       "model_id": "87bb2c4593a9428abe3541b27ff161c3",
       "version_major": 2,
       "version_minor": 0
      },
      "text/plain": [
       "VBox()"
      ]
     },
     "metadata": {},
     "output_type": "display_data"
    },
    {
     "data": {
      "application/vnd.jupyter.widget-view+json": {
       "model_id": "",
       "version_major": 2,
       "version_minor": 0
      },
      "text/plain": [
       "FloatProgress(value=0.0, bar_style='info', description='Progress:', layout=Layout(height='25px', width='50%'),…"
      ]
     },
     "metadata": {},
     "output_type": "display_data"
    },
    {
     "name": "stdout",
     "output_type": "stream",
     "text": [
      "ntalukder6\n",
      "Trip Count:  187203269\n",
      "+--------------------+-------------+---------------+\n",
      "|                Zone|      Borough|weighted_profit|\n",
      "+--------------------+-------------+---------------+\n",
      "|Flushing Meadows-...|       Queens|    30.34197174|\n",
      "|        Baisley Park|       Queens|    28.91476313|\n",
      "|     Randalls Island|    Manhattan|    26.10554401|\n",
      "|       South Jamaica|       Queens|    25.61000645|\n",
      "|        Astoria Park|       Queens|    21.41180544|\n",
      "|             Maspeth|       Queens|    21.35670279|\n",
      "|Briarwood/Jamaica...|       Queens|    20.55267043|\n",
      "|Springfield Garde...|       Queens|    19.90214863|\n",
      "|             Jamaica|       Queens|    19.54251898|\n",
      "|         Kew Gardens|       Queens|    19.29679947|\n",
      "|         Jamaica Bay|       Queens|    19.11349065|\n",
      "|              Corona|       Queens|    17.83623531|\n",
      "|   LaGuardia Airport|       Queens|    17.81139765|\n",
      "|    South Ozone Park|       Queens|    17.48742072|\n",
      "|         JFK Airport|       Queens|    17.31870744|\n",
      "|Eltingville/Annad...|Staten Island|    16.67317708|\n",
      "|Marine Park/Floyd...|     Brooklyn|    16.42276241|\n",
      "|       Rikers Island|        Bronx|    16.20000000|\n",
      "|       Richmond Hill|       Queens|    12.79559462|\n",
      "| Morningside Heights|    Manhattan|    12.33963643|\n",
      "+--------------------+-------------+---------------+"
     ]
    }
   ],
   "source": [
    "main(\"large\", output_bucket)"
   ]
  },
  {
   "cell_type": "code",
   "execution_count": null,
   "metadata": {},
   "outputs": [],
   "source": []
  },
  {
   "cell_type": "code",
   "execution_count": null,
   "metadata": {},
   "outputs": [],
   "source": []
  }
 ],
 "metadata": {
  "kernelspec": {
   "display_name": "PySpark",
   "language": "",
   "name": "pysparkkernel"
  },
  "language_info": {
   "codemirror_mode": {
    "name": "python",
    "version": 3
   },
   "mimetype": "text/x-python",
   "name": "pyspark",
   "pygments_lexer": "python3"
  }
 },
 "nbformat": 4,
 "nbformat_minor": 4
}
